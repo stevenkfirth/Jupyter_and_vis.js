{
 "cells": [
  {
   "cell_type": "markdown",
   "metadata": {},
   "source": [
    "# vis_getting_started_network_html\n",
    "\n",
    "The vis.js website provides a 'getting started' example for its Network tool:\n",
    "\n",
    "http://visjs.org/docs/network/\n",
    "\n",
    "This notebook looks at recreating this in Jupyter notebooks."
   ]
  },
  {
   "cell_type": "markdown",
   "metadata": {},
   "source": [
    "## Embedding html\n",
    "\n",
    "The getting started example is placed in a html file 'vis_getting_started_network.html'. Clicking on the file in windows explorer will display the page in a browser and show it working.\n",
    "\n",
    "The example from the vis.js network is modified here, so that the vis.py script and css is loaded from a local copy\n",
    "\n",
    "```html\n",
    "<head>\n",
    "    <script type=\"text/javascript\" src=\"../vis-4.21.0/dist/vis.js\"></script>\n",
    "    <link href=\"../vis-4.21.0/dist/dist/vis.css\" rel=\"stylesheet\" type=\"text/css\" />\n",
    "```\n",
    "\n",
    "This external html page can be shown in the Jupyter notebook using an IFrame:\n"
   ]
  },
  {
   "cell_type": "code",
   "execution_count": 1,
   "metadata": {},
   "outputs": [
    {
     "data": {
      "text/html": [
       "\n",
       "        <iframe\n",
       "            width=\"650\"\n",
       "            height=\"450\"\n",
       "            src=\"vis_getting_started_network.html\"\n",
       "            frameborder=\"0\"\n",
       "            allowfullscreen\n",
       "        ></iframe>\n",
       "        "
      ],
      "text/plain": [
       "<IPython.lib.display.IFrame at 0x1cfa041ccc0>"
      ]
     },
     "execution_count": 1,
     "metadata": {},
     "output_type": "execute_result"
    }
   ],
   "source": [
    "from IPython.display import IFrame\n",
    "IFrame('vis_getting_started_network.html',650,450)"
   ]
  },
  {
   "cell_type": "markdown",
   "metadata": {},
   "source": [
    "However the above Javascript does not display on GitHub or on nbviewer.\n",
    "\n",
    "It **does** work if this notebook as saved as a html file and placed in the same folder as this notebook (so that the local references to the vis.js package work). One solution is to place this html file on github pages and provide a link to it at the note of the Jupyter notebook (so someone looking on GitHub can click through to the html file)."
   ]
  },
  {
   "cell_type": "markdown",
   "metadata": {},
   "source": [
    "## embedded html\n",
    "\n",
    "Although importing the html as an IFrame works, it doesn't work to embed the same html in the notebook. Here the contents of the file 'vis_getting_started_network.html' are placed in the cell below."
   ]
  },
  {
   "cell_type": "code",
   "execution_count": 3,
   "metadata": {},
   "outputs": [
    {
     "data": {
      "text/html": [
       "<html>\n",
       "<head>\n",
       "    <script type=\"text/javascript\" src=\"../vis-4.21.0/dist/vis.js\"></script>\n",
       "    <link href=\"../vis-4.21.0/dist/vis.css\" rel=\"stylesheet\" type=\"text/css\" />\n",
       "\n",
       "    <style type=\"text/css\">\n",
       "        #mynetwork {\n",
       "            width: 600px;\n",
       "            height: 400px;\n",
       "            border: 1px solid lightgray;\n",
       "        }\n",
       "    </style>\n",
       "</head>\n",
       "<body>\n",
       "<div id=\"mynetwork\"></div>\n",
       "\n",
       "<script type=\"text/javascript\">\n",
       "    // create an array with nodes\n",
       "    var nodes = new vis.DataSet([\n",
       "        {id: 1, label: 'Node 1'},\n",
       "        {id: 2, label: 'Node 2'},\n",
       "        {id: 3, label: 'Node 3'},\n",
       "        {id: 4, label: 'Node 4'},\n",
       "        {id: 5, label: 'Node 5'}\n",
       "    ]);\n",
       "\n",
       "    // create an array with edges\n",
       "    var edges = new vis.DataSet([\n",
       "        {from: 1, to: 3},\n",
       "        {from: 1, to: 2},\n",
       "        {from: 2, to: 4},\n",
       "        {from: 2, to: 5}\n",
       "    ]);\n",
       "\n",
       "    // create a network\n",
       "    var container = document.getElementById('mynetwork');\n",
       "\n",
       "    // provide the data in the vis format\n",
       "    var data = {\n",
       "        nodes: nodes,\n",
       "        edges: edges\n",
       "    };\n",
       "    var options = {};\n",
       "\n",
       "    // initialize your network!\n",
       "    var network = new vis.Network(container, data, options);\n",
       "</script>\n",
       "</body>\n",
       "</html>\n"
      ],
      "text/plain": [
       "<IPython.core.display.HTML object>"
      ]
     },
     "metadata": {},
     "output_type": "display_data"
    }
   ],
   "source": [
    "%%html\n",
    "<html>\n",
    "<head>\n",
    "    <script type=\"text/javascript\" src=\"../vis-4.21.0/dist/vis.js\"></script>\n",
    "    <link href=\"../vis-4.21.0/dist/vis.css\" rel=\"stylesheet\" type=\"text/css\" />\n",
    "\n",
    "    <style type=\"text/css\">\n",
    "        #mynetwork {\n",
    "            width: 600px;\n",
    "            height: 400px;\n",
    "            border: 1px solid lightgray;\n",
    "        }\n",
    "    </style>\n",
    "</head>\n",
    "<body>\n",
    "<div id=\"mynetwork\"></div>\n",
    "\n",
    "<script type=\"text/javascript\">\n",
    "    // create an array with nodes\n",
    "    var nodes = new vis.DataSet([\n",
    "        {id: 1, label: 'Node 1'},\n",
    "        {id: 2, label: 'Node 2'},\n",
    "        {id: 3, label: 'Node 3'},\n",
    "        {id: 4, label: 'Node 4'},\n",
    "        {id: 5, label: 'Node 5'}\n",
    "    ]);\n",
    "\n",
    "    // create an array with edges\n",
    "    var edges = new vis.DataSet([\n",
    "        {from: 1, to: 3},\n",
    "        {from: 1, to: 2},\n",
    "        {from: 2, to: 4},\n",
    "        {from: 2, to: 5}\n",
    "    ]);\n",
    "\n",
    "    // create a network\n",
    "    var container = document.getElementById('mynetwork');\n",
    "\n",
    "    // provide the data in the vis format\n",
    "    var data = {\n",
    "        nodes: nodes,\n",
    "        edges: edges\n",
    "    };\n",
    "    var options = {};\n",
    "\n",
    "    // initialize your network!\n",
    "    var network = new vis.Network(container, data, options);\n",
    "</script>\n",
    "</body>\n",
    "</html>"
   ]
  },
  {
   "cell_type": "markdown",
   "metadata": {},
   "source": [
    "This doesn't work, presumably because the links aren't working or it's not possible to add Javascript scripts in this way in Jupyter notebooks."
   ]
  }
 ],
 "metadata": {
  "kernelspec": {
   "display_name": "Python 3",
   "language": "python",
   "name": "python3"
  },
  "language_info": {
   "codemirror_mode": {
    "name": "ipython",
    "version": 3
   },
   "file_extension": ".py",
   "mimetype": "text/x-python",
   "name": "python",
   "nbconvert_exporter": "python",
   "pygments_lexer": "ipython3",
   "version": "3.7.1"
  }
 },
 "nbformat": 4,
 "nbformat_minor": 2
}
