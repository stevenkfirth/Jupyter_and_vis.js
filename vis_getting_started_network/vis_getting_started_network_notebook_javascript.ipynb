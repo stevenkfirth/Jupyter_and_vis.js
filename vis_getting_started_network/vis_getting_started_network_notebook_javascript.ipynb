{
 "cells": [
  {
   "cell_type": "markdown",
   "metadata": {},
   "source": [
    "# vis_getting_started_network_javascript\n",
    "\n",
    "The vis.js website provides a 'getting started' example for its Network tool:\n",
    "\n",
    "http://visjs.org/docs/network/\n",
    "\n",
    "This notebook looks at recreating this in Jupyter notebooks."
   ]
  },
  {
   "cell_type": "markdown",
   "metadata": {},
   "source": [
    "## Importing vis.js\n",
    "\n",
    "In other examples on the web, vis.js is imported into a Jupyter notebook using the require.config command. "
   ]
  },
  {
   "cell_type": "code",
   "execution_count": 1,
   "metadata": {},
   "outputs": [
    {
     "data": {
      "application/javascript": [
       "\n",
       "/*require.config({paths: {vis: '../vis-4.21.0/dist/vis'}});*/\n",
       "require.config({paths: {vis: '//cdnjs.cloudflare.com/ajax/libs/vis/4.21.0/vis.min'}});\n",
       "\n",
       "require(['vis'], function(vis){\n",
       "    \n",
       "    // create an array with nodes\n",
       "    var nodes = new vis.DataSet([\n",
       "        {id: 1, label: 'Node 1'},\n",
       "        {id: 2, label: 'Node 2'},\n",
       "        {id: 3, label: 'Node 3'},\n",
       "        {id: 4, label: 'Node 4'},\n",
       "        {id: 5, label: 'Node 5'}\n",
       "    ]);\n",
       "\n",
       "    // create an array with edges\n",
       "    var edges = new vis.DataSet([\n",
       "        {from: 1, to: 3},\n",
       "        {from: 1, to: 2},\n",
       "        {from: 2, to: 4},\n",
       "        {from: 2, to: 5}\n",
       "    ]);\n",
       "\n",
       "    // create a network\n",
       "    var container = document.getElementById('mynetwork10');\n",
       "\n",
       "    // provide the data in the vis format\n",
       "    var data = {\n",
       "        nodes: nodes,\n",
       "        edges: edges\n",
       "    };\n",
       "    var options = {width: '600px',\n",
       "                   height: '400px'};\n",
       "\n",
       "    // initialize your network!\n",
       "    var network = new vis.Network(container, data, options);\n",
       "});\n",
       "element.append(\"<div id='mynetwork10'></div>\")\n"
      ],
      "text/plain": [
       "<IPython.core.display.Javascript object>"
      ]
     },
     "execution_count": 1,
     "metadata": {},
     "output_type": "execute_result"
    }
   ],
   "source": [
    "from IPython.display import Javascript\n",
    "Javascript(\n",
    "\"\"\"\n",
    "/*require.config({paths: {vis: '../vis-4.21.0/dist/vis'}});*/\n",
    "require.config({paths: {vis: '//cdnjs.cloudflare.com/ajax/libs/vis/4.21.0/vis.min'}});\n",
    "\n",
    "require(['vis'], function(vis){\n",
    "    \n",
    "    // create an array with nodes\n",
    "    var nodes = new vis.DataSet([\n",
    "        {id: 1, label: 'Node 1'},\n",
    "        {id: 2, label: 'Node 2'},\n",
    "        {id: 3, label: 'Node 3'},\n",
    "        {id: 4, label: 'Node 4'},\n",
    "        {id: 5, label: 'Node 5'}\n",
    "    ]);\n",
    "\n",
    "    // create an array with edges\n",
    "    var edges = new vis.DataSet([\n",
    "        {from: 1, to: 3},\n",
    "        {from: 1, to: 2},\n",
    "        {from: 2, to: 4},\n",
    "        {from: 2, to: 5}\n",
    "    ]);\n",
    "\n",
    "    // create a network\n",
    "    var container = document.getElementById('mynetwork10');\n",
    "\n",
    "    // provide the data in the vis format\n",
    "    var data = {\n",
    "        nodes: nodes,\n",
    "        edges: edges\n",
    "    };\n",
    "    var options = {width: '600px',\n",
    "                   height: '400px'};\n",
    "\n",
    "    // initialize your network!\n",
    "    var network = new vis.Network(container, data, options);\n",
    "});\n",
    "element.append(\"<div id='mynetwork10'></div>\")\n",
    "\"\"\" \n",
    ")"
   ]
  },
  {
   "cell_type": "markdown",
   "metadata": {},
   "source": [
    "This renders as a html document saved in the same folder as this notebook.\n",
    "\n",
    "Can't load this on GitHub at present, so don't know how it is rendering.\n",
    "\n",
    "However this does seem to render on nbviewer.\n"
   ]
  }
 ],
 "metadata": {
  "kernelspec": {
   "display_name": "Python 3",
   "language": "python",
   "name": "python3"
  },
  "language_info": {
   "codemirror_mode": {
    "name": "ipython",
    "version": 3
   },
   "file_extension": ".py",
   "mimetype": "text/x-python",
   "name": "python",
   "nbconvert_exporter": "python",
   "pygments_lexer": "ipython3",
   "version": "3.7.1"
  }
 },
 "nbformat": 4,
 "nbformat_minor": 2
}
