{
 "cells": [
  {
   "cell_type": "code",
   "execution_count": 1,
   "metadata": {},
   "outputs": [],
   "source": [
    "%load_ext autoreload\n",
    "%autoreload 1\n",
    "%aimport vis"
   ]
  },
  {
   "cell_type": "code",
   "execution_count": 2,
   "metadata": {},
   "outputs": [
    {
     "data": {
      "application/javascript": [
       "var link = document.createElement(\"link\");\n",
       "\tlink.ref = \"stylesheet\";\n",
       "\tlink.type = \"text/css\";\n",
       "\tlink.href = \"https://cdnjs.cloudflare.com/ajax/libs/vis/4.21.0/vis.min.css\";\n",
       "\tdocument.head.appendChild(link);\n",
       "\n",
       "\n",
       "    require.config(\n",
       "            {paths:\n",
       "                {vis: '//cdnjs.cloudflare.com/ajax/libs/vis/4.21.0/vis.min'}\n",
       "            });\n",
       "\n",
       "    require(['vis'],function(vis){\n",
       "        // create an array with nodes\n",
       "            var nodes = new vis.DataSet([{\"id\": 1, \"label\": \"Node 1\", \"title\": \"test\", \"group\": 1}, {\"id\": 2, \"label\": \"Node 2\", \"title\": \"test\", \"group\": 1}, {\"id\": 3, \"label\": \"Node 3\", \"title\": \"test\", \"group\": 2}]);\n",
       "\n",
       "            // create an array with edges\n",
       "            var edges = new vis.DataSet([{\"from\": 1, \"to\": 3, \"label\": \"Edge 1\"}, {\"from\": 1, \"to\": 2}, {\"from\": 2, \"to\": 3}]);\n",
       "\n",
       "            // create a network\n",
       "            var container = document.getElementById('0d92f853-879f-4cee-a9cb-9ab6c022e09b');\n",
       "\n",
       "            // provide the data in the vis format\n",
       "            var data = {\n",
       "                nodes: nodes,\n",
       "                edges: edges\n",
       "            };\n",
       "            var options = {\n",
       "                width:'100%',\n",
       "                height:300,\n",
       "                nodes:{shape:'circle',size:14},\n",
       "                edges:{arrows:'to',font:{size:10}}\n",
       "            };\n",
       "\n",
       "            // initialize your network!\n",
       "            var network = new vis.Network(container, data, options);\n",
       "        });\n",
       "\n",
       "    element.append('<div id=\"0d92f853-879f-4cee-a9cb-9ab6c022e09b\"> </div>');\n",
       "    "
      ],
      "text/plain": [
       "<IPython.core.display.Javascript object>"
      ]
     },
     "metadata": {},
     "output_type": "display_data"
    }
   ],
   "source": [
    "nodes=[{'id': 1, 'label': 'Node 1', 'title':'test', 'group':1},\n",
    "       {'id': 2, 'label': 'Node 2', 'title':'test', 'group':1},\n",
    "       {'id': 3, 'label': 'Node 3', 'title':'test', 'group':2}]\n",
    "edges=[{'from': 1, 'to': 3, 'label':'Edge 1'},{'from': 1, 'to': 2},{'from': 2, 'to': 3}]\n",
    "display(vis.network(nodes,edges))"
   ]
  },
  {
   "cell_type": "code",
   "execution_count": 4,
   "metadata": {},
   "outputs": [
    {
     "data": {
      "application/javascript": [
       "var link = document.createElement(\"link\");\n",
       "\tlink.ref = \"stylesheet\";\n",
       "\tlink.type = \"text/css\";\n",
       "\tlink.href = \"https://cdnjs.cloudflare.com/ajax/libs/vis/4.21.0/vis.min.css\";\n",
       "\tdocument.head.appendChild(link);\n",
       "\n",
       "\n",
       "    require.config(\n",
       "            {paths:\n",
       "                {vis: '//cdnjs.cloudflare.com/ajax/libs/vis/4.21.0/vis.min'}\n",
       "            });\n",
       "\n",
       "    require(['vis'],function(vis){\n",
       "        // create an array with nodes\n",
       "            var nodes = new vis.DataSet([\n",
       "                {id: 1, label: 'Node 1', title:'test'},\n",
       "                {id: 2, label: 'Node 2', title:'test'},\n",
       "                {id: 3, label: 'Node 3', title:'test'},\n",
       "                {id: 4, label: 'Node 4', title:'test'},\n",
       "                {id: 5, label: 'Node 5', title:'test'}\n",
       "            ]);\n",
       "\n",
       "            // create an array with edges\n",
       "            var edges = new vis.DataSet([\n",
       "                {from: 1, to: 3},\n",
       "                {from: 1, to: 2},\n",
       "                {from: 2, to: 4},\n",
       "                {from: 2, to: 5}\n",
       "            ]);\n",
       "\n",
       "            // create a network\n",
       "            var container = document.getElementById('22e10900-0187-4ae8-b444-9c9aebfdaf8a');\n",
       "\n",
       "            // provide the data in the vis format\n",
       "            var data = {\n",
       "                nodes: nodes,\n",
       "                edges: edges\n",
       "            };\n",
       "            var options = {};\n",
       "\n",
       "            // initialize your network!\n",
       "            var network = new vis.Network(container, data, options);\n",
       "        });\n",
       "\n",
       "    element.append('<div id=\"22e10900-0187-4ae8-b444-9c9aebfdaf8a\"> </div>');\n",
       "    "
      ],
      "text/plain": [
       "<IPython.core.display.Javascript object>"
      ]
     },
     "metadata": {},
     "output_type": "display_data"
    }
   ],
   "source": [
    "display(vis.network_test())"
   ]
  },
  {
   "cell_type": "code",
   "execution_count": null,
   "metadata": {},
   "outputs": [],
   "source": []
  },
  {
   "cell_type": "code",
   "execution_count": null,
   "metadata": {},
   "outputs": [],
   "source": []
  }
 ],
 "metadata": {
  "kernelspec": {
   "display_name": "Python 3",
   "language": "python",
   "name": "python3"
  },
  "language_info": {
   "codemirror_mode": {
    "name": "ipython",
    "version": 3
   },
   "file_extension": ".py",
   "mimetype": "text/x-python",
   "name": "python",
   "nbconvert_exporter": "python",
   "pygments_lexer": "ipython3",
   "version": "3.7.1"
  }
 },
 "nbformat": 4,
 "nbformat_minor": 2
}
