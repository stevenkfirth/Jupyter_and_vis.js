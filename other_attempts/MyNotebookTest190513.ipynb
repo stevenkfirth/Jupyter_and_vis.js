{
 "cells": [
  {
   "cell_type": "code",
   "execution_count": 8,
   "metadata": {},
   "outputs": [
    {
     "data": {
      "text/plain": [
       "'test'"
      ]
     },
     "execution_count": 8,
     "metadata": {},
     "output_type": "execute_result"
    }
   ],
   "source": [
    "{\n",
    "    \"tags\": [\n",
    "        \"hidecode\",\n",
    "    ]\n",
    "}\n",
    "'test'"
   ]
  },
  {
   "cell_type": "code",
   "execution_count": 3,
   "metadata": {},
   "outputs": [],
   "source": [
    "%autosave??"
   ]
  },
  {
   "cell_type": "code",
   "execution_count": 4,
   "metadata": {},
   "outputs": [
    {
     "data": {
      "text/plain": [
       "'C:\\\\Users\\\\cvskf\\\\.jupyter'"
      ]
     },
     "execution_count": 4,
     "metadata": {},
     "output_type": "execute_result"
    }
   ],
   "source": [
    "from jupyter_core.paths import jupyter_config_dir\n",
    "jupyter_dir = jupyter_config_dir()\n",
    "jupyter_dir"
   ]
  },
  {
   "cell_type": "code",
   "execution_count": 5,
   "metadata": {},
   "outputs": [],
   "source": [
    "import os.path\n",
    "custom_js_path = os.path.join(jupyter_dir, 'custom', 'custom.js')"
   ]
  },
  {
   "cell_type": "code",
   "execution_count": 6,
   "metadata": {},
   "outputs": [
    {
     "name": "stdout",
     "output_type": "stream",
     "text": [
      "You don't have a custom.js file\n"
     ]
    }
   ],
   "source": [
    "#  my custom js\n",
    "if os.path.isfile(custom_js_path):\n",
    "    with open(custom_js_path) as f:\n",
    "        print(f.read())\n",
    "else:\n",
    "    print(\"You don't have a custom.js file\")"
   ]
  },
  {
   "cell_type": "code",
   "execution_count": 9,
   "metadata": {},
   "outputs": [
    {
     "data": {
      "text/html": [
       "<script>\n",
       "code_show=true; \n",
       "function code_toggle() {\n",
       " if (code_show){\n",
       " $('div.input').hide();\n",
       " } else {\n",
       " $('div.input').show();\n",
       " }\n",
       " code_show = !code_show\n",
       "} \n",
       "$( document ).ready(code_toggle);\n",
       "</script>\n",
       "<form action=\"javascript:code_toggle()\"><input type=\"submit\" value=\"Click here to toggle on/off the raw code.\"></form>"
      ],
      "text/plain": [
       "<IPython.core.display.HTML object>"
      ]
     },
     "execution_count": 9,
     "metadata": {},
     "output_type": "execute_result"
    }
   ],
   "source": [
    "from IPython.display import HTML\n",
    "\n",
    "HTML('''<script>\n",
    "code_show=true; \n",
    "function code_toggle() {\n",
    " if (code_show){\n",
    " $('div.input').hide();\n",
    " } else {\n",
    " $('div.input').show();\n",
    " }\n",
    " code_show = !code_show\n",
    "} \n",
    "$( document ).ready(code_toggle);\n",
    "</script>\n",
    "<form action=\"javascript:code_toggle()\"><input type=\"submit\" value=\"Click here to toggle on/off the raw code.\"></form>''')"
   ]
  },
  {
   "cell_type": "code",
   "execution_count": 1,
   "metadata": {},
   "outputs": [
    {
     "data": {
      "application/javascript": [
       "var link = document.createElement(\"link\");\n",
       "\tlink.ref = \"stylesheet\";\n",
       "\tlink.type = \"text/css\";\n",
       "\tlink.href = \"https://cdnjs.cloudflare.com/ajax/libs/vis/4.21.0/vis.min.css\";\n",
       "\tdocument.head.appendChild(link);\n",
       "require.config({     paths: {         vis: '//cdnjs.cloudflare.com/ajax/libs/vis/4.21.0/vis.min'     } }); require(['vis'], function(vis) {  window.vis = vis; }); "
      ],
      "text/plain": [
       "<IPython.core.display.Javascript object>"
      ]
     },
     "metadata": {},
     "output_type": "display_data"
    }
   ],
   "source": [
    "from IPython.display import display, Javascript\n",
    "display(\n",
    "        Javascript(data=\"require.config({ \" +\n",
    "                        \"    paths: { \" +\n",
    "                        \"        vis: '//cdnjs.cloudflare.com/ajax/libs/vis/4.21.0/vis.min' \" +\n",
    "                        \"    } \" +\n",
    "                        \"}); \" +\n",
    "                        \"require(['vis'], function(vis) { \" +\n",
    "                        \" window.vis = vis; \" +\n",
    "                        \"}); \",\n",
    "                   css='https://cdnjs.cloudflare.com/ajax/libs/vis/4.21.0/vis.min.css')\n",
    "        )"
   ]
  },
  {
   "cell_type": "code",
   "execution_count": 2,
   "metadata": {},
   "outputs": [
    {
     "data": {
      "application/javascript": [
       "document.getElementById(\"demo\").innerHTML = vis\n"
      ],
      "text/plain": [
       "<IPython.core.display.Javascript object>"
      ]
     },
     "metadata": {},
     "output_type": "display_data"
    }
   ],
   "source": [
    "%%javascript\n",
    "document.getElementById(\"demo\").innerHTML = vis\n"
   ]
  },
  {
   "cell_type": "code",
   "execution_count": 3,
   "metadata": {},
   "outputs": [
    {
     "data": {
      "text/html": [
       "<div id=\"demo\"></div>\n"
      ],
      "text/plain": [
       "<IPython.core.display.HTML object>"
      ]
     },
     "metadata": {},
     "output_type": "display_data"
    }
   ],
   "source": [
    "%%html\n",
    "<div id=\"demo\"></div>"
   ]
  },
  {
   "cell_type": "code",
   "execution_count": 4,
   "metadata": {},
   "outputs": [
    {
     "data": {
      "text/html": [
       "<html>\n",
       "<body>\n",
       "<div id=\"mynetwork\"></div>\n",
       "\n",
       "<script type=\"text/javascript\">\n",
       "    // create an array with nodes\n",
       "    var nodes = new vis.DataSet([\n",
       "        {id: 1, label: 'Node 1'},\n",
       "        {id: 2, label: 'Node 2'},\n",
       "        {id: 3, label: 'Node 3'},\n",
       "        {id: 4, label: 'Node 4'},\n",
       "        {id: 5, label: 'Node 5'}\n",
       "    ]);\n",
       "\n",
       "    // create an array with edges\n",
       "    var edges = new vis.DataSet([\n",
       "        {from: 1, to: 3},\n",
       "        {from: 1, to: 2},\n",
       "        {from: 2, to: 4},\n",
       "        {from: 2, to: 5}\n",
       "    ]);\n",
       "\n",
       "    // create a network\n",
       "    var container = document.getElementById('mynetwork');\n",
       "\n",
       "    // provide the data in the vis format\n",
       "    var data = {\n",
       "        nodes: nodes,\n",
       "        edges: edges\n",
       "    };\n",
       "    var options = {};\n",
       "\n",
       "    // initialize your network!\n",
       "    var network = new vis.Network(container, data, options);\n",
       "</script>\n",
       "</body>\n",
       "</html>\n"
      ],
      "text/plain": [
       "<IPython.core.display.HTML object>"
      ]
     },
     "metadata": {},
     "output_type": "display_data"
    }
   ],
   "source": [
    "%%html\n",
    "<html>\n",
    "<body>\n",
    "<div id=\"mynetwork\"></div>\n",
    "\n",
    "<script type=\"text/javascript\">\n",
    "    // create an array with nodes\n",
    "    var nodes = new vis.DataSet([\n",
    "        {id: 1, label: 'Node 1'},\n",
    "        {id: 2, label: 'Node 2'},\n",
    "        {id: 3, label: 'Node 3'},\n",
    "        {id: 4, label: 'Node 4'},\n",
    "        {id: 5, label: 'Node 5'}\n",
    "    ]);\n",
    "\n",
    "    // create an array with edges\n",
    "    var edges = new vis.DataSet([\n",
    "        {from: 1, to: 3},\n",
    "        {from: 1, to: 2},\n",
    "        {from: 2, to: 4},\n",
    "        {from: 2, to: 5}\n",
    "    ]);\n",
    "\n",
    "    // create a network\n",
    "    var container = document.getElementById('mynetwork');\n",
    "\n",
    "    // provide the data in the vis format\n",
    "    var data = {\n",
    "        nodes: nodes,\n",
    "        edges: edges\n",
    "    };\n",
    "    var options = {};\n",
    "\n",
    "    // initialize your network!\n",
    "    var network = new vis.Network(container, data, options);\n",
    "</script>\n",
    "</body>\n",
    "</html>"
   ]
  },
  {
   "cell_type": "code",
   "execution_count": 34,
   "metadata": {},
   "outputs": [
    {
     "data": {
      "application/javascript": [
       "\n",
       "require(['vis'],function(vis){\n",
       "// create an array with nodes\n",
       "    var nodes = new vis.DataSet([\n",
       "        {id: 1, label: 'Node 1'},\n",
       "        {id: 2, label: 'Node 2'},\n",
       "        {id: 3, label: 'Node 3'},\n",
       "        {id: 4, label: 'Node 4'},\n",
       "        {id: 5, label: 'Node 5'}\n",
       "    ]);\n",
       "\n",
       "    // create an array with edges\n",
       "    var edges = new vis.DataSet([\n",
       "        {from: 1, to: 3},\n",
       "        {from: 1, to: 2},\n",
       "        {from: 2, to: 4},\n",
       "        {from: 2, to: 5}\n",
       "    ]);\n",
       "\n",
       "    // create a network\n",
       "    var container = document.getElementById('n1');\n",
       "\n",
       "    // provide the data in the vis format\n",
       "    var data = {\n",
       "        nodes: nodes,\n",
       "        edges: edges\n",
       "    };\n",
       "    var options = {};\n",
       "\n",
       "    // initialize your network!\n",
       "    var network = new vis.Network(container, data, options);\n",
       "});\n",
       "element.append('<div id=\"n1\"></div>')"
      ],
      "text/plain": [
       "<IPython.core.display.Javascript object>"
      ]
     },
     "metadata": {},
     "output_type": "display_data"
    }
   ],
   "source": [
    "%%javascript\n",
    "\n",
    "require(['vis'],function(vis){\n",
    "// create an array with nodes\n",
    "    var nodes = new vis.DataSet([\n",
    "        {id: 1, label: 'Node 1'},\n",
    "        {id: 2, label: 'Node 2'},\n",
    "        {id: 3, label: 'Node 3'},\n",
    "        {id: 4, label: 'Node 4'},\n",
    "        {id: 5, label: 'Node 5'}\n",
    "    ]);\n",
    "\n",
    "    // create an array with edges\n",
    "    var edges = new vis.DataSet([\n",
    "        {from: 1, to: 3},\n",
    "        {from: 1, to: 2},\n",
    "        {from: 2, to: 4},\n",
    "        {from: 2, to: 5}\n",
    "    ]);\n",
    "\n",
    "    // create a network\n",
    "    var container = document.getElementById('n1');\n",
    "\n",
    "    // provide the data in the vis format\n",
    "    var data = {\n",
    "        nodes: nodes,\n",
    "        edges: edges\n",
    "    };\n",
    "    var options = {};\n",
    "\n",
    "    // initialize your network!\n",
    "    var network = new vis.Network(container, data, options);\n",
    "});\n",
    "element.append('<div id=\"n1\"></div>')"
   ]
  }
 ],
 "metadata": {
  "kernelspec": {
   "display_name": "Python 3",
   "language": "python",
   "name": "python3"
  },
  "language_info": {
   "codemirror_mode": {
    "name": "ipython",
    "version": 3
   },
   "file_extension": ".py",
   "mimetype": "text/x-python",
   "name": "python",
   "nbconvert_exporter": "python",
   "pygments_lexer": "ipython3",
   "version": "3.7.1"
  }
 },
 "nbformat": 4,
 "nbformat_minor": 2
}
