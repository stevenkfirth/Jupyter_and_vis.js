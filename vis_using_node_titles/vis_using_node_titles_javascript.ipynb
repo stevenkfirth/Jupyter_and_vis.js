{
 "cells": [
  {
   "cell_type": "markdown",
   "metadata": {},
   "source": [
    "# vis_getting_started_network_javascript\n",
    "\n",
    "The vis.js website provides a 'getting started' example for its Network tool:\n",
    "\n",
    "http://visjs.org/docs/network/\n",
    "\n",
    "This notebook looks at recreating this in Jupyter notebooks, and adding node titles which display when the nodes is hovered over."
   ]
  },
  {
   "cell_type": "markdown",
   "metadata": {},
   "source": [
    "## Importing vis.js\n",
    "\n",
    "In other examples on the web, vis.js is imported into a Jupyter notebook using the require.config command. \n",
    "\n",
    "The vis package could be loaded using the local copy `require.config({paths: {vis: '../vis-4.21.0/dist/vis'}});`. However this then doesn't seem to render on nbviewer.\n",
    "\n",
    "So instead the package is loaded from the cdnjs website.\n"
   ]
  },
  {
   "cell_type": "code",
   "execution_count": 8,
   "metadata": {},
   "outputs": [
    {
     "data": {
      "application/javascript": [
       "\n",
       "require.config({paths: {vis: '//cdnjs.cloudflare.com/ajax/libs/vis/4.21.0/vis.min'}});\n",
       "\n",
       "require(['vis'], function(vis){\n",
       "    \n",
       "    // create an array with nodes\n",
       "    var nodes = new vis.DataSet([\n",
       "        {id: 1, label: 'Node 1', title: 'Title1'},\n",
       "        {id: 2, label: 'Node 2', title: 'Title1'},\n",
       "        {id: 3, label: 'Node 3', title: 'Title1'},\n",
       "        {id: 4, label: 'Node 4', title: 'Title1'},\n",
       "        {id: 5, label: 'Node 5', title: 'Title1'}\n",
       "    ]);\n",
       "\n",
       "    // create an array with edges\n",
       "    var edges = new vis.DataSet([\n",
       "        {from: 1, to: 3},\n",
       "        {from: 1, to: 2},\n",
       "        {from: 2, to: 4},\n",
       "        {from: 2, to: 5}\n",
       "    ]);\n",
       "\n",
       "    // create a network\n",
       "    var container = document.getElementById('mynetwork10');\n",
       "\n",
       "    // provide the data in the vis format\n",
       "    var data = {\n",
       "        nodes: nodes,\n",
       "        edges: edges\n",
       "    };\n",
       "    var options = {width: '600px',\n",
       "                   height: '400px'};\n",
       "\n",
       "    // initialize your network!\n",
       "    var network = new vis.Network(container, data, options);\n",
       "});\n",
       "element.append(\"<div id='mynetwork10'></div>\")\n"
      ],
      "text/plain": [
       "<IPython.core.display.Javascript object>"
      ]
     },
     "execution_count": 8,
     "metadata": {},
     "output_type": "execute_result"
    }
   ],
   "source": [
    "from IPython.display import Javascript\n",
    "Javascript(\n",
    "\"\"\"\n",
    "require.config({paths: {vis: '//cdnjs.cloudflare.com/ajax/libs/vis/4.21.0/vis.min'}});\n",
    "\n",
    "require(['vis'], function(vis){\n",
    "    \n",
    "    // create an array with nodes\n",
    "    var nodes = new vis.DataSet([\n",
    "        {id: 1, label: 'Node 1', title: 'Title1'},\n",
    "        {id: 2, label: 'Node 2', title: 'Title1'},\n",
    "        {id: 3, label: 'Node 3', title: 'Title1'},\n",
    "        {id: 4, label: 'Node 4', title: 'Title1'},\n",
    "        {id: 5, label: 'Node 5', title: 'Title1'}\n",
    "    ]);\n",
    "\n",
    "    // create an array with edges\n",
    "    var edges = new vis.DataSet([\n",
    "        {from: 1, to: 3},\n",
    "        {from: 1, to: 2},\n",
    "        {from: 2, to: 4},\n",
    "        {from: 2, to: 5}\n",
    "    ]);\n",
    "\n",
    "    // create a network\n",
    "    var container = document.getElementById('mynetwork10');\n",
    "\n",
    "    // provide the data in the vis format\n",
    "    var data = {\n",
    "        nodes: nodes,\n",
    "        edges: edges\n",
    "    };\n",
    "    var options = {width: '600px',\n",
    "                   height: '400px'};\n",
    "\n",
    "    // initialize your network!\n",
    "    var network = new vis.Network(container, data, options);\n",
    "});\n",
    "element.append(\"<div id='mynetwork10'></div>\")\n",
    "\"\"\" \n",
    ")"
   ]
  },
  {
   "cell_type": "markdown",
   "metadata": {},
   "source": [
    "Here the titles are not working, i.e. nothing appears when you hover over the nodes.\n",
    "\n",
    "So perhaps the IFrame approach is best it hover titles are wanted.\n"
   ]
  }
 ],
 "metadata": {
  "kernelspec": {
   "display_name": "Python 3",
   "language": "python",
   "name": "python3"
  },
  "language_info": {
   "codemirror_mode": {
    "name": "ipython",
    "version": 3
   },
   "file_extension": ".py",
   "mimetype": "text/x-python",
   "name": "python",
   "nbconvert_exporter": "python",
   "pygments_lexer": "ipython3",
   "version": "3.7.1"
  }
 },
 "nbformat": 4,
 "nbformat_minor": 2
}
